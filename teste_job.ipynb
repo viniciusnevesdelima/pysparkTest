{
 "cells": [
  {
   "cell_type": "code",
   "execution_count": null,
   "metadata": {},
   "outputs": [],
   "source": [
    "from pyspark.sql import SQLContext\n",
    "from pyspark.sql.functions import split, regexp_extract\n",
    "from pyspark import SparkContext\n",
    "\n",
    "sc = SparkContext()\n",
    "sqlContext = SQLContext(sc)\n",
    "logJul95 = sqlContext.read.text(\"/home/vinicius/Desktop/datasets_teste/access_log_Jul95\")\n",
    "logAug95 = sqlContext.read.text(\"/home/vinicius/Desktop/datasets_teste/access_log_Aug95\")\n",
    "log_file = logJul95.union(logAug95)"
   ]
  },
  {
   "cell_type": "code",
   "execution_count": 142,
   "metadata": {},
   "outputs": [
    {
     "name": "stdout",
     "output_type": "stream",
     "text": [
      "+--------------------+\n",
      "|               value|\n",
      "+--------------------+\n",
      "|199.72.81.55 - - ...|\n",
      "|unicomp6.unicomp....|\n",
      "|199.120.110.21 - ...|\n",
      "|burger.letters.co...|\n",
      "|199.120.110.21 - ...|\n",
      "|burger.letters.co...|\n",
      "|burger.letters.co...|\n",
      "|205.212.115.106 -...|\n",
      "|d104.aa.net - - [...|\n",
      "|129.94.144.152 - ...|\n",
      "+--------------------+\n",
      "only showing top 10 rows\n",
      "\n"
     ]
    }
   ],
   "source": [
    "log_file.show(10)"
   ]
  },
  {
   "cell_type": "code",
   "execution_count": 143,
   "metadata": {},
   "outputs": [
    {
     "name": "stdout",
     "output_type": "stream",
     "text": [
      "+-----------------------------------------------------------------------------------------------------------------------+\n",
      "|value                                                                                                                  |\n",
      "+-----------------------------------------------------------------------------------------------------------------------+\n",
      "|199.72.81.55 - - [01/Jul/1995:00:00:01 -0400] \"GET /history/apollo/ HTTP/1.0\" 200 6245                                 |\n",
      "|unicomp6.unicomp.net - - [01/Jul/1995:00:00:06 -0400] \"GET /shuttle/countdown/ HTTP/1.0\" 200 3985                      |\n",
      "|199.120.110.21 - - [01/Jul/1995:00:00:09 -0400] \"GET /shuttle/missions/sts-73/mission-sts-73.html HTTP/1.0\" 200 4085   |\n",
      "|burger.letters.com - - [01/Jul/1995:00:00:11 -0400] \"GET /shuttle/countdown/liftoff.html HTTP/1.0\" 304 0               |\n",
      "|199.120.110.21 - - [01/Jul/1995:00:00:11 -0400] \"GET /shuttle/missions/sts-73/sts-73-patch-small.gif HTTP/1.0\" 200 4179|\n",
      "+-----------------------------------------------------------------------------------------------------------------------+\n",
      "only showing top 5 rows\n",
      "\n"
     ]
    }
   ],
   "source": [
    "log_file.show(5, truncate=False)"
   ]
  },
  {
   "cell_type": "code",
   "execution_count": 144,
   "metadata": {},
   "outputs": [
    {
     "name": "stdout",
     "output_type": "stream",
     "text": [
      "+---------------------+--------------------------+-------------------+--------+-----------+\n",
      "|host_requisicao      |timestamp                 |requisicao         |cod_http|bytes_total|\n",
      "+---------------------+--------------------------+-------------------+--------+-----------+\n",
      "|199.72.81.55         |01/Jul/1995:00:00:01 -0400|/history/apollo/   |200     |6245       |\n",
      "|unicomp6.unicomp.net |01/Jul/1995:00:00:06 -0400|/shuttle/countdown/|200     |3985       |\n",
      "+---------------------+--------------------------+-------------------+--------+-----------+\n",
      "only showing top 2 rows\n",
      "\n"
     ]
    }
   ],
   "source": [
    "split_df = log_file.select(regexp_extract('value', r'^([^\\s]+\\s)', 1).alias('host_requisicao'),\n",
    "                        regexp_extract('value', r'^.*\\[(\\d\\d/\\w{3}/\\d{4}:\\d{2}:\\d{2}:\\d{2} -\\d{4})]', 1).alias('timestamp'),\n",
    "                        regexp_extract('value', r'^.*\"\\w+\\s+([^\\s]+)\\s+HTTP.*\"', 1).alias('requisicao'),\n",
    "                        regexp_extract('value', r'^.*\"\\s+([^\\s]+)', 1).cast('integer').alias('cod_http'),\n",
    "                        regexp_extract('value', r'^.*\\s+(\\d+)$', 1).cast('integer').alias('bytes_total'))\n",
    "split_df.show(2, truncate=False)"
   ]
  },
  {
   "cell_type": "code",
   "execution_count": 145,
   "metadata": {},
   "outputs": [
    {
     "data": {
      "text/plain": [
       "DataFrame[host_requisicao: string, timestamp: string, requisicao: string, cod_http: int, bytes_total: int]"
      ]
     },
     "execution_count": 145,
     "metadata": {},
     "output_type": "execute_result"
    }
   ],
   "source": [
    "split_df.cache()"
   ]
  },
  {
   "cell_type": "code",
   "execution_count": 146,
   "metadata": {},
   "outputs": [
    {
     "data": {
      "text/plain": [
       "['host_requisicao', 'timestamp', 'requisicao', 'cod_http', 'bytes_total']"
      ]
     },
     "execution_count": 146,
     "metadata": {},
     "output_type": "execute_result"
    }
   ],
   "source": [
    "split_df.columns"
   ]
  },
  {
   "cell_type": "code",
   "execution_count": 147,
   "metadata": {},
   "outputs": [
    {
     "data": {
      "text/plain": [
       "0"
      ]
     },
     "execution_count": 147,
     "metadata": {},
     "output_type": "execute_result"
    }
   ],
   "source": [
    "log_file.filter(log_file[\"value\"].isNull()).count()"
   ]
  },
  {
   "cell_type": "code",
   "execution_count": 148,
   "metadata": {},
   "outputs": [
    {
     "data": {
      "text/plain": [
       "DataFrame[host_requisicao: string, timestamp: string, requisicao: string, cod_http: int, bytes_total: int]"
      ]
     },
     "execution_count": 148,
     "metadata": {},
     "output_type": "execute_result"
    }
   ],
   "source": [
    "cleaned_df = split_df.na.fill( 0 )\n",
    "cleaned_df.cache()"
   ]
  },
  {
   "cell_type": "code",
   "execution_count": 149,
   "metadata": {},
   "outputs": [
    {
     "data": {
      "text/plain": [
       "0"
      ]
     },
     "execution_count": 149,
     "metadata": {},
     "output_type": "execute_result"
    }
   ],
   "source": [
    "cleaned_df.filter( cleaned_df[\"bytes_total\"].isNull() ).count()"
   ]
  },
  {
   "cell_type": "code",
   "execution_count": 18,
   "metadata": {},
   "outputs": [
    {
     "data": {
      "text/plain": [
       "137979"
      ]
     },
     "execution_count": 18,
     "metadata": {},
     "output_type": "execute_result"
    }
   ],
   "source": [
    "hosts_unicos = cleaned_df.select('host_requisicao').distinct().count()\n",
    "hosts_unicos"
   ]
  },
  {
   "cell_type": "code",
   "execution_count": 24,
   "metadata": {},
   "outputs": [
    {
     "data": {
      "text/plain": [
       "20901"
      ]
     },
     "execution_count": 24,
     "metadata": {},
     "output_type": "execute_result"
    }
   ],
   "source": [
    "erros = cleaned_df.filter(cleaned_df['cod_http']==404).count()\n",
    "erros"
   ]
  },
  {
   "cell_type": "code",
   "execution_count": null,
   "metadata": {},
   "outputs": [],
   "source": []
  },
  {
   "cell_type": "code",
   "execution_count": 150,
   "metadata": {},
   "outputs": [
    {
     "name": "stdout",
     "output_type": "stream",
     "text": [
      "+--------------------------------------------+-----+\n",
      "|requisicao                                  |count|\n",
      "+--------------------------------------------+-----+\n",
      "|/pub/winvn/readme.txt                       |2004 |\n",
      "|/pub/winvn/release.txt                      |1732 |\n",
      "|/shuttle/missions/STS-69/mission-STS-69.html|682  |\n",
      "|/shuttle/missions/sts-68/ksc-upclose.gif    |426  |\n",
      "|/history/apollo/a-001/a-001-patch-small.gif |384  |\n",
      "+--------------------------------------------+-----+\n",
      "only showing top 5 rows\n",
      "\n"
     ]
    }
   ],
   "source": [
    "from pyspark.sql.functions import desc\n",
    "\n",
    "top_5_erros = cleaned_df.filter(cleaned_df['cod_http']==404).groupby('requisicao').count().sort(desc('count'))\n",
    "top_5_erros.show(5,truncate=False)"
   ]
  },
  {
   "cell_type": "code",
   "execution_count": 177,
   "metadata": {},
   "outputs": [
    {
     "name": "stdout",
     "output_type": "stream",
     "text": [
      "+--------------------+-----+\n",
      "|           timestamp|count|\n",
      "+--------------------+-----+\n",
      "|28/Aug/1995:11:56...|    7|\n",
      "|11/Aug/1995:12:05...|    7|\n",
      "|12/Jul/1995:10:35...|    5|\n",
      "|12/Jul/1995:10:24...|    5|\n",
      "|11/Aug/1995:12:05...|    5|\n",
      "|28/Aug/1995:17:14...|    5|\n",
      "|17/Aug/1995:16:55...|    5|\n",
      "|12/Jul/1995:10:35...|    5|\n",
      "|12/Jul/1995:10:21...|    5|\n",
      "|12/Jul/1995:10:35...|    5|\n",
      "|12/Jul/1995:10:20...|    5|\n",
      "|28/Aug/1995:17:14...|    5|\n",
      "|11/Jul/1995:14:08...|    5|\n",
      "|28/Aug/1995:17:14...|    4|\n",
      "|12/Jul/1995:10:35...|    4|\n",
      "|12/Jul/1995:10:21...|    4|\n",
      "|28/Aug/1995:01:05...|    4|\n",
      "|13/Aug/1995:14:28...|    4|\n",
      "|20/Jul/1995:07:21...|    4|\n",
      "|04/Aug/1995:18:45...|    4|\n",
      "+--------------------+-----+\n",
      "only showing top 20 rows\n",
      "\n"
     ]
    }
   ],
   "source": [
    "from pyspark.sql.functions import dayofmonth\n",
    "\n",
    "cleaned_df.withColumn('timestamp', cleaned_df['timestamp'].cast('timestamp'))\n",
    "erros_per_day = cleaned_df.filter(cleaned_df['cod_http']==404).groupby(cleaned_df['timestamp']).count().sort(desc('count'))\n",
    "erros_per_day.show()\n"
   ]
  },
  {
   "cell_type": "code",
   "execution_count": 208,
   "metadata": {},
   "outputs": [
    {
     "data": {
      "text/plain": [
       "[Row(sum(bytes_total)=65524314915)]"
      ]
     },
     "execution_count": 208,
     "metadata": {},
     "output_type": "execute_result"
    }
   ],
   "source": [
    "from pyspark.sql import functions as F\n",
    "total = cleaned_df.groupBy().agg(F.sum(\"bytes_total\")).collect()\n",
    "total"
   ]
  },
  {
   "cell_type": "code",
   "execution_count": null,
   "metadata": {},
   "outputs": [],
   "source": []
  }
 ],
 "metadata": {
  "kernelspec": {
   "display_name": "Python 3",
   "language": "python",
   "name": "python3"
  },
  "language_info": {
   "name": ""
  }
 },
 "nbformat": 4,
 "nbformat_minor": 2
}
